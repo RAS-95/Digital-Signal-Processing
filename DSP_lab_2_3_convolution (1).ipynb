{
  "nbformat": 4,
  "nbformat_minor": 0,
  "metadata": {
    "colab": {
      "provenance": []
    },
    "kernelspec": {
      "name": "python3",
      "display_name": "Python 3"
    },
    "language_info": {
      "name": "python"
    }
  },
  "cells": [
    {
      "cell_type": "markdown",
      "source": [
        "Convolution"
      ],
      "metadata": {
        "id": "yhOUjrSA_8O-"
      }
    },
    {
      "cell_type": "code",
      "execution_count": 1,
      "metadata": {
        "id": "JeUcr_oP7FS0"
      },
      "outputs": [],
      "source": [
        "import numpy as np"
      ]
    },
    {
      "cell_type": "code",
      "source": [
        "xn = [1,2,3,1]\n",
        "hn = [1,2,1,-1]\n",
        "\n",
        "o1 = 0\n",
        "o2 = 1\n",
        "\n",
        "yn = []\n",
        "tmp = []\n",
        "\n",
        "for i in range(4):\n",
        "  for j in range(4):\n",
        "    tmp.append(xn[j] * hn[i])\n",
        "  yn.append([i for i in tmp])\n",
        "  tmp.clear()\n",
        "\n",
        "for i in range(4):\n",
        "  print(yn[i])\n",
        "\n",
        "ind = 0"
      ],
      "metadata": {
        "colab": {
          "base_uri": "https://localhost:8080/"
        },
        "id": "0arqVEt37X4Y",
        "outputId": "cc95a2d0-2b0d-4554-e3ab-916dc2d236f7"
      },
      "execution_count": 2,
      "outputs": [
        {
          "output_type": "stream",
          "name": "stdout",
          "text": [
            "[1, 2, 3, 1]\n",
            "[2, 4, 6, 2]\n",
            "[1, 2, 3, 1]\n",
            "[-1, -2, -3, -1]\n"
          ]
        }
      ]
    },
    {
      "cell_type": "code",
      "source": [
        "ns = []\n",
        "for i in range(len(yn)):\n",
        "  r, c, res = i, 0, 0\n",
        "  org = False\n",
        "  while (r>=0):\n",
        "    if o2 == r and o1 == c:\n",
        "      org = True\n",
        "    res, r, c = res + yn[r][c], r - 1, c + 1\n",
        "  if org:\n",
        "    print(ind)\n",
        "  ns.append(res)\n",
        "  ind += 1\n",
        "\n",
        "for i in range(1,len(yn[0])):\n",
        "  r,c,res = len(yn) - 1, i, 0\n",
        "  while(c<len(yn[0])):\n",
        "    if o2 == r and o1 == c:\n",
        "      org = True\n",
        "    res, r, c = res + yn[r][c], r - 1, c + 1\n",
        "  if org:\n",
        "    print(ind)\n",
        "  ns.append(res)\n",
        "  ind += 1\n",
        "\n",
        "print(ns)"
      ],
      "metadata": {
        "colab": {
          "base_uri": "https://localhost:8080/"
        },
        "id": "H8zjXgq17fOc",
        "outputId": "f924e7a8-6227-477d-cf39-ade8046a3039"
      },
      "execution_count": 3,
      "outputs": [
        {
          "output_type": "stream",
          "name": "stdout",
          "text": [
            "1\n",
            "[1, 4, 8, 8, 3, -2, -1]\n"
          ]
        }
      ]
    },
    {
      "cell_type": "markdown",
      "source": [
        "\n",
        "\n",
        "> Correlation\n",
        "\n",
        "\n"
      ],
      "metadata": {
        "id": "kGcidqZUAFUI"
      }
    },
    {
      "cell_type": "code",
      "source": [
        "xn = [1,2,3,1]\n",
        "hn = [1,2,1,-1]\n",
        "\n",
        "o1 = 0\n",
        "o2 = 1\n",
        "\n",
        "yn = []\n",
        "tmp = []\n",
        "\n",
        "for i in range(4):\n",
        "  for j in range(4):\n",
        "    tmp.append(xn[j] * hn[i])\n",
        "  yn.append([i for i in tmp])\n",
        "  tmp.clear()\n",
        "\n",
        "for i in range(4):\n",
        "  print(yn[i])\n",
        "\n",
        "ind = 0"
      ],
      "metadata": {
        "colab": {
          "base_uri": "https://localhost:8080/"
        },
        "id": "s8OT__t-9BMa",
        "outputId": "67f8f8d5-7fe5-42c6-d64c-337bd58aa32d"
      },
      "execution_count": 4,
      "outputs": [
        {
          "output_type": "stream",
          "name": "stdout",
          "text": [
            "[1, 2, 3, 1]\n",
            "[2, 4, 6, 2]\n",
            "[1, 2, 3, 1]\n",
            "[-1, -2, -3, -1]\n"
          ]
        }
      ]
    },
    {
      "cell_type": "code",
      "source": [
        "ind = 0\n",
        "ns = []\n",
        "for i in range(len(hn)-1, -1, -1):\n",
        "  r, c, res = i, 0, 0\n",
        "  org = False\n",
        "  while (r >=0 and r < len(hn) and c >=0 and c < len(xn)):\n",
        "    if o2 == r and o1 == c:\n",
        "      org = True\n",
        "    res, r, c = res + yn[r][c], r + 1, c + 1\n",
        "  if org:\n",
        "    print(ind)\n",
        "  ns.append(res)\n",
        "  ind += 1\n",
        "\n",
        "for i in range(1, len(xn)):\n",
        "  r,c,res = 0, i, 0\n",
        "  while (r >=0 and r < len(hn) and c >=0 and c < len(xn)):\n",
        "    print(r, c)\n",
        "    if o2 == r and o1 == c:\n",
        "      org = True\n",
        "    res, r, c = res + yn[r][c], r + 1, c + 1\n",
        "  if org:\n",
        "    print(ind)\n",
        "  ns.append(res)\n",
        "  ind += 1\n",
        "\n",
        "print(ns)"
      ],
      "metadata": {
        "colab": {
          "base_uri": "https://localhost:8080/"
        },
        "id": "MZggzRdT9E0D",
        "outputId": "5f9c151e-4283-46c0-8d91-68741d78a6cc"
      },
      "execution_count": 15,
      "outputs": [
        {
          "output_type": "stream",
          "name": "stdout",
          "text": [
            "2\n",
            "0 1\n",
            "1 2\n",
            "2 3\n",
            "0 2\n",
            "1 3\n",
            "0 3\n",
            "[-1, -1, 1, 7, 9, 5, 1]\n"
          ]
        }
      ]
    }
  ]
}