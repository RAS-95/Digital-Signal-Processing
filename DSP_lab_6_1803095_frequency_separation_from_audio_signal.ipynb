{
  "nbformat": 4,
  "nbformat_minor": 0,
  "metadata": {
    "colab": {
      "provenance": []
    },
    "kernelspec": {
      "name": "python3",
      "display_name": "Python 3"
    },
    "language_info": {
      "name": "python"
    }
  },
  "cells": [
    {
      "cell_type": "code",
      "execution_count": null,
      "metadata": {
        "colab": {
          "base_uri": "https://localhost:8080/"
        },
        "id": "eUKGyjINIHK1",
        "outputId": "38eb1035-8ade-4f84-a2d7-cc646b151f60"
      },
      "outputs": [
        {
          "output_type": "stream",
          "name": "stdout",
          "text": [
            "Requirement already satisfied: pydub in /usr/local/lib/python3.10/dist-packages (0.25.1)\n"
          ]
        }
      ],
      "source": [
        "pip install pydub"
      ]
    },
    {
      "cell_type": "code",
      "source": [
        "from google.colab import drive\n",
        "drive.mount('/content/drive')"
      ],
      "metadata": {
        "colab": {
          "base_uri": "https://localhost:8080/"
        },
        "id": "EFfBTC0RN854",
        "outputId": "66c055cb-698b-4aef-b317-f8f50709a7b0"
      },
      "execution_count": null,
      "outputs": [
        {
          "output_type": "stream",
          "name": "stdout",
          "text": [
            "Mounted at /content/drive\n"
          ]
        }
      ]
    },
    {
      "cell_type": "code",
      "source": [
        "from pydub import AudioSegment\n",
        "import numpy as np\n",
        "import matplotlib.pyplot as plt\n",
        "from scipy.fft import fft\n",
        "\n",
        "# Load audio signal\n",
        "path = \"/content/drive/MyDrive/Colab Notebooks/veer-zaara.mp3\"\n",
        "audio = AudioSegment.from_file(path, format=\"mp3\")\n",
        "samples = np.array(audio.get_array_of_samples())\n",
        "fs = audio.frame_rate\n",
        "\n",
        "# Perform FFT\n",
        "fft_out = fft(samples)\n",
        "\n",
        "# Plot the frequency spectrum\n",
        "magnitude = np.abs(fft_out)\n",
        "frequency = np.linspace(0, fs, len(magnitude))\n",
        "\n",
        "plt.plot(frequency, magnitude)\n",
        "plt.xlabel(\"Frequency (Hz)\")\n",
        "plt.ylabel(\"Amplitude\")\n",
        "plt.show()\n",
        "\n",
        "# Define the frequency range for each fundamental frequency\n",
        "fundamental_frequencies = [100, 200, 300, 400, 500]\n",
        "frequency_ranges = [(f - 10, f + 10) for f in fundamental_frequencies]\n",
        "\n",
        "# Separate the different frequencies\n",
        "frequency_components = []\n",
        "for low, high in frequency_ranges:\n",
        "    index_range = np.logical_and(frequency >= low, frequency <= high)\n",
        "    frequency_component = magnitude[index_range]\n",
        "    frequency_components.append(frequency_component)\n",
        "\n",
        "# Output each of the fundamental frequencies\n",
        "for i, (low, high) in enumerate(frequency_ranges):\n",
        "    component = frequency_components[i]\n",
        "    index_max = np.argmax(component)\n",
        "    frequency_max = frequency[index_max]\n",
        "    amplitude_max = component[index_max]\n",
        "    print(f\"Fundamental frequency {i + 1}: {frequency_max:.2f} Hz (amplitude {amplitude_max:.2f})\")"
      ],
      "metadata": {
        "colab": {
          "base_uri": "https://localhost:8080/",
          "height": 552
        },
        "id": "4bcVjLc0JbG0",
        "outputId": "8d18bc5a-f39c-486d-b538-c6773e0fc497"
      },
      "execution_count": null,
      "outputs": [
        {
          "output_type": "display_data",
          "data": {
            "text/plain": [
              "<Figure size 640x480 with 1 Axes>"
            ],
            "image/png": "[encoded data removed]"
          },
          "metadata": {}
        },
        {
          "output_type": "stream",
          "name": "stdout",
          "text": [
            "Fundamental frequency 1: 3.46 Hz (amplitude 1094519616.17)\n",
            "Fundamental frequency 2: 16.68 Hz (amplitude 1298863784.34)\n",
            "Fundamental frequency 3: 19.98 Hz (amplitude 440774596.78)\n",
            "Fundamental frequency 4: 5.15 Hz (amplitude 382041284.08)\n",
            "Fundamental frequency 5: 1.75 Hz (amplitude 210254048.83)\n"
          ]
        }
      ]
    },
    {
      "cell_type": "code",
      "source": [
        "import librosa\n",
        "import numpy as np\n",
        "import pydub\n",
        "from scipy.io.wavfile import write\n",
        "\n",
        "# Load .mp3 file\n",
        "path = \"/content/drive/MyDrive/Colab Notebooks/veer-zaara.mp3\"\n",
        "audio = AudioSegment.from_file(path, format=\"mp3\")\n",
        "# Save .wav file\n",
        "wav_filename = \"audio_signal.wav\"\n",
        "audio.export(wav_filename, format=\"wav\")\n",
        "\n",
        "# Load .wav file\n",
        "samples, sr = librosa.load(wav_filename)\n",
        "\n",
        "# Perform Short-Time Fourier Transform (STFT)\n",
        "stft = np.abs(librosa.stft(samples))\n",
        "\n",
        "# Define the frequency ranges for the vocal, bass, and lead\n",
        "vocal_range = (100, 300)\n",
        "bass_range = (20, 100)\n",
        "lead_range = (300, 5000)\n",
        "\n",
        "# Separate the different frequency components\n",
        "vocal_stft = stft.copy()\n",
        "vocal_stft[(stft <= vocal_range[0]) | (stft > vocal_range[1])] = 0\n",
        "\n",
        "bass_stft = stft.copy()\n",
        "bass_stft[(stft <= bass_range[0]) | (stft > bass_range[1])] = 0\n",
        "\n",
        "lead_stft = stft.copy()\n",
        "lead_stft[(stft <= lead_range[0]) | (stft > lead_range[1])] = 0\n",
        "\n",
        "# Convert the STFTs back to the time domain\n",
        "vocal = librosa.istft(vocal_stft)\n",
        "bass = librosa.istft(bass_stft)\n",
        "lead = librosa.istft(lead_stft)\n",
        "\n",
        "# Output each of the separated signals\n",
        "write(\"vocal.wav\", sr, vocal)\n",
        "write(\"bass.wav\", sr, bass)\n",
        "write(\"lead.wav\", sr, lead)"
      ],
      "metadata": {
        "id": "NQAeoGAOLHPq"
      },
      "execution_count": null,
      "outputs": []
    }
  ]
}